{
 "cells": [
  {
   "cell_type": "code",
   "execution_count": 61,
   "id": "f0dc3c21",
   "metadata": {},
   "outputs": [],
   "source": [
    "class Planet:\n",
    "    \n",
    "    count = 0\n",
    "    \n",
    "    def __init__(self, name, population = None):\n",
    "        self.name = name\n",
    "        self.population = population or []\n",
    "        Planet.count += 1\n",
    "    \n",
    "    def __del__(self):\n",
    "        print(\"That's all folks\")"
   ]
  },
  {
   "cell_type": "code",
   "execution_count": 62,
   "id": "a7969e1d",
   "metadata": {},
   "outputs": [
    {
     "data": {
      "text/plain": [
       "0"
      ]
     },
     "execution_count": 62,
     "metadata": {},
     "output_type": "execute_result"
    }
   ],
   "source": [
    "Planet.count"
   ]
  },
  {
   "cell_type": "code",
   "execution_count": 63,
   "id": "8df93784",
   "metadata": {},
   "outputs": [],
   "source": [
    "earth = Planet(\"Earth\")\n",
    "mars = Planet(\"Mars\")"
   ]
  },
  {
   "cell_type": "code",
   "execution_count": 64,
   "id": "6629ff6c",
   "metadata": {},
   "outputs": [
    {
     "data": {
      "text/plain": [
       "2"
      ]
     },
     "execution_count": 64,
     "metadata": {},
     "output_type": "execute_result"
    }
   ],
   "source": [
    "Planet.count"
   ]
  },
  {
   "cell_type": "code",
   "execution_count": 65,
   "id": "ea8b518d",
   "metadata": {},
   "outputs": [
    {
     "name": "stdout",
     "output_type": "stream",
     "text": [
      "That's all folks\n"
     ]
    }
   ],
   "source": [
    "del earth"
   ]
  },
  {
   "cell_type": "code",
   "execution_count": 66,
   "id": "db66fb20",
   "metadata": {},
   "outputs": [
    {
     "name": "stdout",
     "output_type": "stream",
     "text": [
      "That's all folks\n"
     ]
    }
   ],
   "source": [
    "del mars"
   ]
  },
  {
   "cell_type": "code",
   "execution_count": null,
   "id": "357c79cb",
   "metadata": {},
   "outputs": [],
   "source": []
  },
  {
   "cell_type": "code",
   "execution_count": null,
   "id": "0a633da4",
   "metadata": {},
   "outputs": [],
   "source": []
  },
  {
   "cell_type": "code",
   "execution_count": 88,
   "id": "9d4a34da",
   "metadata": {},
   "outputs": [],
   "source": [
    "class Planet:\n",
    "    \"\"\" The class describes planet\"\"\"\n",
    "    \n",
    "    count = 1\n",
    "    \n",
    "    def __init__(self, name, population = None):\n",
    "        self.name = name\n",
    "        self.population = population or []\n",
    "    \n",
    "    #def __doc__(self):\n",
    "        #return \"Planet \" + self.name\n",
    "    "
   ]
  },
  {
   "cell_type": "code",
   "execution_count": 89,
   "id": "2d092b71",
   "metadata": {},
   "outputs": [],
   "source": [
    "planet = Planet(\"Earth\", 1000000)"
   ]
  },
  {
   "cell_type": "code",
   "execution_count": 90,
   "id": "9f6777a7",
   "metadata": {},
   "outputs": [
    {
     "data": {
      "text/plain": [
       "{'name': 'Earth', 'population': 1000000}"
      ]
     },
     "execution_count": 90,
     "metadata": {},
     "output_type": "execute_result"
    }
   ],
   "source": [
    "planet.__dict__"
   ]
  },
  {
   "cell_type": "code",
   "execution_count": 91,
   "id": "6e3764bc",
   "metadata": {},
   "outputs": [],
   "source": [
    "planet.mass = 5644846456"
   ]
  },
  {
   "cell_type": "code",
   "execution_count": 92,
   "id": "6427a4cd",
   "metadata": {},
   "outputs": [
    {
     "data": {
      "text/plain": [
       "{'name': 'Earth', 'population': 1000000, 'mass': 5644846456}"
      ]
     },
     "execution_count": 92,
     "metadata": {},
     "output_type": "execute_result"
    }
   ],
   "source": [
    "planet.__dict__"
   ]
  },
  {
   "cell_type": "code",
   "execution_count": 93,
   "id": "8ae3ad60",
   "metadata": {},
   "outputs": [
    {
     "data": {
      "text/plain": [
       "mappingproxy({'__module__': '__main__',\n",
       "              '__doc__': ' The class describes planet',\n",
       "              'count': 1,\n",
       "              '__init__': <function __main__.Planet.__init__(self, name, population=None)>,\n",
       "              '__dict__': <attribute '__dict__' of 'Planet' objects>,\n",
       "              '__weakref__': <attribute '__weakref__' of 'Planet' objects>})"
      ]
     },
     "execution_count": 93,
     "metadata": {},
     "output_type": "execute_result"
    }
   ],
   "source": [
    "Planet.__dict__"
   ]
  },
  {
   "cell_type": "code",
   "execution_count": 94,
   "id": "2d82c9b3",
   "metadata": {},
   "outputs": [
    {
     "data": {
      "text/plain": [
       "' The class describes planet'"
      ]
     },
     "execution_count": 94,
     "metadata": {},
     "output_type": "execute_result"
    }
   ],
   "source": [
    "Planet.__doc__"
   ]
  },
  {
   "cell_type": "code",
   "execution_count": 95,
   "id": "a6d52f78",
   "metadata": {},
   "outputs": [
    {
     "data": {
      "text/plain": [
       "<attribute '__weakref__' of 'Planet' objects>"
      ]
     },
     "execution_count": 95,
     "metadata": {},
     "output_type": "execute_result"
    }
   ],
   "source": [
    "Planet.__weakref__"
   ]
  },
  {
   "cell_type": "code",
   "execution_count": 97,
   "id": "2d4fdd84",
   "metadata": {},
   "outputs": [
    {
     "data": {
      "text/plain": [
       "' The class describes planet'"
      ]
     },
     "execution_count": 97,
     "metadata": {},
     "output_type": "execute_result"
    }
   ],
   "source": [
    "planet.__doc__"
   ]
  },
  {
   "cell_type": "code",
   "execution_count": 98,
   "id": "a03af692",
   "metadata": {},
   "outputs": [
    {
     "name": "stdout",
     "output_type": "stream",
     "text": [
      "['__class__', '__delattr__', '__dict__', '__dir__', '__doc__', '__eq__', '__format__', '__ge__', '__getattribute__', '__gt__', '__hash__', '__init__', '__init_subclass__', '__le__', '__lt__', '__module__', '__ne__', '__new__', '__reduce__', '__reduce_ex__', '__repr__', '__setattr__', '__sizeof__', '__str__', '__subclasshook__', '__weakref__', 'count', 'mass', 'name', 'population']\n"
     ]
    }
   ],
   "source": [
    "print(dir(planet))"
   ]
  },
  {
   "cell_type": "code",
   "execution_count": null,
   "id": "f826e98b",
   "metadata": {},
   "outputs": [],
   "source": []
  }
 ],
 "metadata": {
  "kernelspec": {
   "display_name": "Python 3",
   "language": "python",
   "name": "python3"
  },
  "language_info": {
   "codemirror_mode": {
    "name": "ipython",
    "version": 3
   },
   "file_extension": ".py",
   "mimetype": "text/x-python",
   "name": "python",
   "nbconvert_exporter": "python",
   "pygments_lexer": "ipython3",
   "version": "3.8.8"
  }
 },
 "nbformat": 4,
 "nbformat_minor": 5
}
