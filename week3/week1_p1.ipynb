{
 "cells": [
  {
   "cell_type": "code",
   "execution_count": 13,
   "id": "9e23b566",
   "metadata": {},
   "outputs": [],
   "source": [
    "class Human:\n",
    "    pass"
   ]
  },
  {
   "cell_type": "code",
   "execution_count": 14,
   "id": "b1aeba82",
   "metadata": {},
   "outputs": [],
   "source": [
    "class Robot:\n",
    "    \"\"\"Sozdaet robotov\"\"\""
   ]
  },
  {
   "cell_type": "code",
   "execution_count": 15,
   "id": "46015d78",
   "metadata": {},
   "outputs": [
    {
     "name": "stdout",
     "output_type": "stream",
     "text": [
      "<class '__main__.Robot'>\n"
     ]
    }
   ],
   "source": [
    "print(Robot)"
   ]
  },
  {
   "cell_type": "code",
   "execution_count": 17,
   "id": "174016bd",
   "metadata": {},
   "outputs": [
    {
     "name": "stdout",
     "output_type": "stream",
     "text": [
      "['__class__', '__delattr__', '__dict__', '__dir__', '__doc__', '__eq__', '__format__', '__ge__', '__getattribute__', '__gt__', '__hash__', '__init__', '__init_subclass__', '__le__', '__lt__', '__module__', '__ne__', '__new__', '__reduce__', '__reduce_ex__', '__repr__', '__setattr__', '__sizeof__', '__str__', '__subclasshook__', '__weakref__']\n"
     ]
    }
   ],
   "source": [
    "print(dir(Robot))"
   ]
  },
  {
   "cell_type": "code",
   "execution_count": 18,
   "id": "42506620",
   "metadata": {},
   "outputs": [],
   "source": [
    "class Planet:\n",
    "    pass"
   ]
  },
  {
   "cell_type": "code",
   "execution_count": 19,
   "id": "b93d24f5",
   "metadata": {},
   "outputs": [],
   "source": [
    "planet = Planet()"
   ]
  },
  {
   "cell_type": "code",
   "execution_count": 20,
   "id": "8f714855",
   "metadata": {},
   "outputs": [
    {
     "name": "stdout",
     "output_type": "stream",
     "text": [
      "<__main__.Planet object at 0x000001D12CEDE5B0>\n"
     ]
    }
   ],
   "source": [
    "print(planet)"
   ]
  },
  {
   "cell_type": "code",
   "execution_count": 21,
   "id": "14e1219b",
   "metadata": {},
   "outputs": [],
   "source": [
    "solar_system = []"
   ]
  },
  {
   "cell_type": "code",
   "execution_count": 24,
   "id": "53431539",
   "metadata": {},
   "outputs": [
    {
     "name": "stdout",
     "output_type": "stream",
     "text": [
      "[<__main__.Planet object at 0x000001D12CCBB7F0>, <__main__.Planet object at 0x000001D12CCBB4C0>, <__main__.Planet object at 0x000001D12CCBB130>, <__main__.Planet object at 0x000001D12CCBBA00>, <__main__.Planet object at 0x000001D12CCBBF40>, <__main__.Planet object at 0x000001D12CCBBEB0>, <__main__.Planet object at 0x000001D12CCBBEE0>, <__main__.Planet object at 0x000001D12CCBBF70>, <__main__.Planet object at 0x000001D12C6F7160>, <__main__.Planet object at 0x000001D12C6F7280>, <__main__.Planet object at 0x000001D12C6F7640>, <__main__.Planet object at 0x000001D12C6F7610>, <__main__.Planet object at 0x000001D12C6F7730>, <__main__.Planet object at 0x000001D12C6F76A0>, <__main__.Planet object at 0x000001D12C6F7100>, <__main__.Planet object at 0x000001D12CCBB730>, <__main__.Planet object at 0x000001D12CCA2D30>, <__main__.Planet object at 0x000001D12CCA2E80>, <__main__.Planet object at 0x000001D12CCA2E50>, <__main__.Planet object at 0x000001D12CCA2670>, <__main__.Planet object at 0x000001D12CCA2220>, <__main__.Planet object at 0x000001D12CCA2A60>, <__main__.Planet object at 0x000001D12CCA2EB0>, <__main__.Planet object at 0x000001D12CCA22E0>]\n"
     ]
    }
   ],
   "source": [
    "\n",
    "for i in range(8):\n",
    "    planet = Planet()\n",
    "    solar_system.append(planet)\n",
    "\n",
    "print(solar_system)"
   ]
  },
  {
   "cell_type": "code",
   "execution_count": null,
   "id": "d64a202c",
   "metadata": {},
   "outputs": [],
   "source": []
  },
  {
   "cell_type": "code",
   "execution_count": 37,
   "id": "810e2977",
   "metadata": {},
   "outputs": [],
   "source": [
    "class Planet:\n",
    "    \n",
    "    def __init__(self, name):\n",
    "        self.name = name\n",
    "    \n",
    "    def __str__(self):\n",
    "        return self.name\n",
    "    \n",
    "    def __repr__(self):\n",
    "        return f\"Planet {self.name}\"\n",
    "\n",
    "earth = Planet(\"Earth\")"
   ]
  },
  {
   "cell_type": "code",
   "execution_count": 38,
   "id": "f36d7448",
   "metadata": {},
   "outputs": [
    {
     "name": "stdout",
     "output_type": "stream",
     "text": [
      "Earth\n"
     ]
    }
   ],
   "source": [
    "print(earth)"
   ]
  },
  {
   "cell_type": "code",
   "execution_count": 39,
   "id": "66b0b90c",
   "metadata": {},
   "outputs": [
    {
     "name": "stdout",
     "output_type": "stream",
     "text": [
      "[Planet Mercury, Planet Venus, Planet Earth, Planet Mars, Planet Jupiter, Planet Saturn, Planet Uranus, Planet Neptune]\n"
     ]
    }
   ],
   "source": [
    "solar_system = []\n",
    "planet_names = [\n",
    "    \"Mercury\", \"Venus\", \"Earth\", \"Mars\",\n",
    "    \"Jupiter\", \"Saturn\", \"Uranus\", \"Neptune\"\n",
    "    \n",
    "]\n",
    "for name in planet_names:\n",
    "    planet = Planet(name)\n",
    "    solar_system.append(planet)\n",
    "\n",
    "print(solar_system)"
   ]
  },
  {
   "cell_type": "code",
   "execution_count": null,
   "id": "f37c9fe4",
   "metadata": {},
   "outputs": [],
   "source": []
  }
 ],
 "metadata": {
  "kernelspec": {
   "display_name": "Python 3",
   "language": "python",
   "name": "python3"
  },
  "language_info": {
   "codemirror_mode": {
    "name": "ipython",
    "version": 3
   },
   "file_extension": ".py",
   "mimetype": "text/x-python",
   "name": "python",
   "nbconvert_exporter": "python",
   "pygments_lexer": "ipython3",
   "version": "3.8.8"
  }
 },
 "nbformat": 4,
 "nbformat_minor": 5
}
