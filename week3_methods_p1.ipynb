{
 "cells": [
  {
   "cell_type": "code",
   "execution_count": 2,
   "id": "0a46dc10",
   "metadata": {},
   "outputs": [],
   "source": [
    "class Human:\n",
    "    \n",
    "    def __init__(self, name, age=0):\n",
    "        self.name = name\n",
    "        self.age = age\n",
    "    \n",
    "class Planet:\n",
    "    \n",
    "    def __init__(self, name, population=None):\n",
    "        self.name = name\n",
    "        self.population = population or []\n",
    "        \n",
    "    def add_human(self, human):\n",
    "        print(f\"Welcome to {self.name}, {human.name}!\")\n",
    "        self.population.append(human)"
   ]
  },
  {
   "cell_type": "code",
   "execution_count": 3,
   "id": "2b4a3275",
   "metadata": {},
   "outputs": [],
   "source": [
    "mars = Planet(\"Mars\")\n",
    "bob = Human(\"Bob\", 26)"
   ]
  },
  {
   "cell_type": "code",
   "execution_count": 4,
   "id": "9aa274e1",
   "metadata": {},
   "outputs": [
    {
     "name": "stdout",
     "output_type": "stream",
     "text": [
      "Welcome to Mars, Bob!\n"
     ]
    }
   ],
   "source": [
    "mars.add_human(bob)"
   ]
  },
  {
   "cell_type": "code",
   "execution_count": 7,
   "id": "69ea6438",
   "metadata": {},
   "outputs": [
    {
     "data": {
      "text/plain": [
       "[<__main__.Human at 0x2117e7bceb0>]"
      ]
     },
     "execution_count": 7,
     "metadata": {},
     "output_type": "execute_result"
    }
   ],
   "source": [
    "mars.population"
   ]
  },
  {
   "cell_type": "code",
   "execution_count": null,
   "id": "2cc55fcd",
   "metadata": {},
   "outputs": [],
   "source": []
  },
  {
   "cell_type": "code",
   "execution_count": null,
   "id": "e6c8d14c",
   "metadata": {},
   "outputs": [],
   "source": []
  },
  {
   "cell_type": "code",
   "execution_count": null,
   "id": "ffef44f7",
   "metadata": {},
   "outputs": [],
   "source": []
  },
  {
   "cell_type": "code",
   "execution_count": null,
   "id": "0bd9baa0",
   "metadata": {},
   "outputs": [],
   "source": []
  },
  {
   "cell_type": "code",
   "execution_count": 9,
   "id": "5a498a19",
   "metadata": {},
   "outputs": [],
   "source": [
    "class Human:\n",
    "    \n",
    "    def __init__(self, name, age):\n",
    "        self._name = name\n",
    "        self._age = age\n",
    "    \n",
    "    def _say(self, text):\n",
    "        print(text)\n",
    "        \n",
    "    def say_name(self):\n",
    "        print(f\"My name is: {self._name}\")\n",
    "    \n",
    "    def say_how_old(self):\n",
    "        print(f\"My age is: {self._age}\")"
   ]
  },
  {
   "cell_type": "code",
   "execution_count": 10,
   "id": "73892268",
   "metadata": {},
   "outputs": [],
   "source": [
    "bob = Human(\"Bob\", age=29)"
   ]
  },
  {
   "cell_type": "code",
   "execution_count": 11,
   "id": "d7fb36c7",
   "metadata": {},
   "outputs": [
    {
     "name": "stdout",
     "output_type": "stream",
     "text": [
      "My age is: 29\n"
     ]
    }
   ],
   "source": [
    "bob.say_how_old()"
   ]
  },
  {
   "cell_type": "code",
   "execution_count": 12,
   "id": "6b31c575",
   "metadata": {},
   "outputs": [
    {
     "name": "stdout",
     "output_type": "stream",
     "text": [
      "My name is: Bob\n"
     ]
    }
   ],
   "source": [
    "bob.say_name()"
   ]
  },
  {
   "cell_type": "code",
   "execution_count": 20,
   "id": "d893c7f0",
   "metadata": {},
   "outputs": [
    {
     "data": {
      "text/plain": [
       "'\\nClassmethod\\n'"
      ]
     },
     "execution_count": 20,
     "metadata": {},
     "output_type": "execute_result"
    }
   ],
   "source": [
    "\"\"\"\n",
    "Classmethod\n",
    "\"\"\""
   ]
  },
  {
   "cell_type": "code",
   "execution_count": 14,
   "id": "285e6c78",
   "metadata": {},
   "outputs": [],
   "source": [
    "class Event:\n",
    "    \n",
    "    def __init__(self, description, event_date):\n",
    "        self.description = description\n",
    "        self.event_date = event_date\n",
    "    \n",
    "    def __str__(self):\n",
    "        return f\"Event \\\" {self.description} \\\" at {self.event_date}\""
   ]
  },
  {
   "cell_type": "code",
   "execution_count": 15,
   "id": "3c3d068c",
   "metadata": {},
   "outputs": [],
   "source": [
    "from datetime import date"
   ]
  },
  {
   "cell_type": "code",
   "execution_count": 16,
   "id": "572abc18",
   "metadata": {},
   "outputs": [],
   "source": [
    "event_descr = \"Рассказать что такое @classmethod\"\n",
    "event_date = date.today()"
   ]
  },
  {
   "cell_type": "code",
   "execution_count": 17,
   "id": "2b4a675b",
   "metadata": {},
   "outputs": [],
   "source": [
    "event = Event(event_descr, event_date)"
   ]
  },
  {
   "cell_type": "code",
   "execution_count": 18,
   "id": "1644e4e7",
   "metadata": {},
   "outputs": [
    {
     "name": "stdout",
     "output_type": "stream",
     "text": [
      "Event \" Рассказать что такое @classmethod \" at 2021-07-21\n"
     ]
    }
   ],
   "source": [
    "print(event)"
   ]
  },
  {
   "cell_type": "code",
   "execution_count": null,
   "id": "a037a581",
   "metadata": {},
   "outputs": [],
   "source": []
  }
 ],
 "metadata": {
  "kernelspec": {
   "display_name": "Python 3",
   "language": "python",
   "name": "python3"
  },
  "language_info": {
   "codemirror_mode": {
    "name": "ipython",
    "version": 3
   },
   "file_extension": ".py",
   "mimetype": "text/x-python",
   "name": "python",
   "nbconvert_exporter": "python",
   "pygments_lexer": "ipython3",
   "version": "3.8.8"
  }
 },
 "nbformat": 4,
 "nbformat_minor": 5
}
